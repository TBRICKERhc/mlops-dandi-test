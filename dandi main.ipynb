{
  "cells": [
    {
      "cell_type": "code",
      "execution_count": 8,
      "metadata": {
        "colab": {
          "base_uri": "https://localhost:8080/"
        },
        "collapsed": true,
        "id": "JVTUNjgVxhG1",
        "outputId": "13def27c-1838-4ce6-e76e-4f36d0208e01"
      },
      "outputs": [],
      "source": [
        "!pip install fastapi Pillow python-multipart torch transformers uvicorn nest-asyncio pyngrok"
      ]
    },
    {
      "cell_type": "markdown",
      "metadata": {
        "id": "_JxHRFRAD6nt"
      },
      "source": []
    },
    {
      "cell_type": "code",
      "execution_count": 9,
      "metadata": {
        "colab": {
          "base_uri": "https://localhost:8080/"
        },
        "collapsed": true,
        "id": "eXIsU_xzx5zZ",
        "outputId": "a0f545ef-49fa-452e-8b94-ab24e2d15d63"
      },
      "outputs": [],
      "source": [
        "from transformers import ViltProcessor, ViltForQuestionAnswering\n",
        "import requests\n",
        "from PIL import Image\n",
        "\n",
        "processor = ViltProcessor.from_pretrained(\"dandelin/vilt-b32-finetuned-vqa\")\n",
        "model = ViltForQuestionAnswering.from_pretrained(\"dandelin/vilt-b32-finetuned-vqa\")\n",
        "\n"
      ]
    },
    {
      "cell_type": "code",
      "execution_count": 10,
      "metadata": {
        "id": "wuAgb5645nns"
      },
      "outputs": [],
      "source": [
        "# prepare image + question\n",
        "url = \"http://images.cocodataset.org/val2017/000000039769.jpg\"\n",
        "image = Image.open(requests.get(url, stream=True).raw)\n",
        "\n",
        "text = \"What are the colors of the cats?\"\n",
        "\n",
        "# prepare inputs\n",
        "encoding = processor(image, text, return_tensors=\"pt\")\n"
      ]
    },
    {
      "cell_type": "code",
      "execution_count": 11,
      "metadata": {
        "colab": {
          "base_uri": "https://localhost:8080/"
        },
        "id": "f9gmjLZ05sq0",
        "outputId": "68211edb-0abb-433f-f67c-3aadf9c9985a"
      },
      "outputs": [
        {
          "name": "stdout",
          "output_type": "stream",
          "text": [
            "Predicted answer: brown and black\n"
          ]
        }
      ],
      "source": [
        "\n",
        "# forward pass\n",
        "outputs = model(**encoding)\n",
        "logits = outputs.logits\n",
        "idx = logits.argmax(-1).item()\n",
        "\n",
        "\n",
        "print(\"Predicted answer:\", model.config.id2label[idx])\n",
        "\n",
        "# TODO: put above code into a function that accepts image and text as input"
      ]
    },
    {
      "cell_type": "code",
      "execution_count": 12,
      "metadata": {
        "id": "TwPHEzIy0oez"
      },
      "outputs": [],
      "source": [
        "def model_pipeline(text: str, image: Image):\n",
        "    # prepare inputs\n",
        "    encoding = processor(image, text, return_tensors=\"pt\")\n",
        "\n",
        "    # forward pass\n",
        "    outputs = model(**encoding)\n",
        "    logits = outputs.logits\n",
        "    idx = logits.argmax(-1).item()\n",
        "\n",
        "    return  model.config.id2label[idx]"
      ]
    },
    {
      "cell_type": "code",
      "execution_count": null,
      "metadata": {
        "id": "-3gPKMN_yqMy"
      },
      "outputs": [],
      "source": [
        "#used gemini to make this work\n",
        "from fastapi import FastAPI, UploadFile, Form, File\n",
        "from typing import Union\n",
        "import io\n",
        "from PIL import Image\n",
        "\n",
        "# ... (rest of your imports and setup)\n",
        "app = FastAPI()\n",
        "\n",
        "@app.post(\"/ask\")\n",
        "# CRUCIAL FIX: Use Form(...) to tell FastAPI that 'text' is in the form-data body.\n",
        "# Using File(...) for 'image' is also good practice for clarity.\n",
        "def ask(text: str = Form(...), image: UploadFile = File(...)):\n",
        "    \n",
        "    # Also ensure you use the corrected file reading logic to avoid the 500 error:\n",
        "    content = image.file.read()\n",
        "    \n",
        "    # Check for empty content (good practice)\n",
        "    if not content:\n",
        "        # You could return a 400 error here if you want a clearer client error\n",
        "        # return JSONResponse(status_code=400, content={\"detail\": \"Uploaded image file is empty.\"})\n",
        "        pass\n",
        "        \n",
        "    pil_image = Image.open(io.BytesIO(content))\n",
        "\n",
        "    result = model_pipeline(text, pil_image)\n",
        "    \n",
        "    return {\"answer\": result}\n",
        "\n",
        "\n",
        "\n",
        "\n"
      ]
    },
    {
      "cell_type": "code",
      "execution_count": 15,
      "metadata": {
        "id": "zLqgmFXF3hEl"
      },
      "outputs": [],
      "source": [
        "import nest_asyncio\n",
        "nest_asyncio.apply()\n",
        "from pyngrok import ngrok\n",
        "import uvicorn"
      ]
    },
    {
      "cell_type": "code",
      "execution_count": null,
      "metadata": {
        "colab": {
          "base_uri": "https://localhost:8080/",
          "height": 351
        },
        "id": "qoN6E-hI01hw",
        "outputId": "48891846-ea91-4a6a-c8e6-7c4b6d1bfab8"
      },
      "outputs": [],
      "source": [
        "\n",
        "\n",
        "\n",
        "ngrok.set_auth_token(\"token\")\n",
        "\n",
        "ngrok_tunnel = ngrok.connect(8000)\n",
        "print('Public URL:', ngrok_tunnel.public_url)\n",
        "config = uvicorn.Config(app, port=8000, log_level=\"info\")\n",
        "server = uvicorn.Server(config)\n",
        "\n",
        "import asyncio\n",
        "# Use asyncio to serve, compatible with nest_asyncio\n",
        "await server.serve()\n",
        "\n"
      ]
    }
  ],
  "metadata": {
    "colab": {
      "provenance": []
    },
    "kernelspec": {
      "display_name": "mlops_env",
      "language": "python",
      "name": "python3"
    },
    "language_info": {
      "codemirror_mode": {
        "name": "ipython",
        "version": 3
      },
      "file_extension": ".py",
      "mimetype": "text/x-python",
      "name": "python",
      "nbconvert_exporter": "python",
      "pygments_lexer": "ipython3",
      "version": "3.11.7"
    }
  },
  "nbformat": 4,
  "nbformat_minor": 0
}
