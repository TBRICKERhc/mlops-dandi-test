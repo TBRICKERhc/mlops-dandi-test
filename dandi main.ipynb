{
  "cells": [
    {
      "cell_type": "code",
      "execution_count": 1,
      "metadata": {
        "colab": {
          "base_uri": "https://localhost:8080/"
        },
        "collapsed": true,
        "id": "JVTUNjgVxhG1",
        "outputId": "13def27c-1838-4ce6-e76e-4f36d0208e01"
      },
      "outputs": [
        {
          "name": "stdout",
          "output_type": "stream",
          "text": [
            "Requirement already satisfied: fastapi in c:\\users\\ty\\mlops\\mlops_env\\lib\\site-packages (0.118.0)\n",
            "Requirement already satisfied: Pillow in c:\\users\\ty\\mlops\\mlops_env\\lib\\site-packages (11.3.0)\n",
            "Requirement already satisfied: python-multipart in c:\\users\\ty\\mlops\\mlops_env\\lib\\site-packages (0.0.20)\n",
            "Requirement already satisfied: torch in c:\\users\\ty\\mlops\\mlops_env\\lib\\site-packages (2.8.0)\n",
            "Requirement already satisfied: transformers in c:\\users\\ty\\mlops\\mlops_env\\lib\\site-packages (4.57.0)\n",
            "Requirement already satisfied: uvicorn in c:\\users\\ty\\mlops\\mlops_env\\lib\\site-packages (0.37.0)\n",
            "Requirement already satisfied: nest-asyncio in c:\\users\\ty\\mlops\\mlops_env\\lib\\site-packages (1.6.0)\n",
            "Requirement already satisfied: pyngrok in c:\\users\\ty\\mlops\\mlops_env\\lib\\site-packages (7.4.0)\n",
            "Requirement already satisfied: starlette<0.49.0,>=0.40.0 in c:\\users\\ty\\mlops\\mlops_env\\lib\\site-packages (from fastapi) (0.48.0)\n",
            "Requirement already satisfied: pydantic!=1.8,!=1.8.1,!=2.0.0,!=2.0.1,!=2.1.0,<3.0.0,>=1.7.4 in c:\\users\\ty\\mlops\\mlops_env\\lib\\site-packages (from fastapi) (2.11.10)\n",
            "Requirement already satisfied: typing-extensions>=4.8.0 in c:\\users\\ty\\mlops\\mlops_env\\lib\\site-packages (from fastapi) (4.15.0)\n",
            "Requirement already satisfied: filelock in c:\\users\\ty\\mlops\\mlops_env\\lib\\site-packages (from torch) (3.19.1)\n",
            "Requirement already satisfied: sympy>=1.13.3 in c:\\users\\ty\\mlops\\mlops_env\\lib\\site-packages (from torch) (1.14.0)\n",
            "Requirement already satisfied: networkx in c:\\users\\ty\\mlops\\mlops_env\\lib\\site-packages (from torch) (3.5)\n",
            "Requirement already satisfied: jinja2 in c:\\users\\ty\\mlops\\mlops_env\\lib\\site-packages (from torch) (3.1.6)\n",
            "Requirement already satisfied: fsspec in c:\\users\\ty\\mlops\\mlops_env\\lib\\site-packages (from torch) (2025.9.0)\n",
            "Requirement already satisfied: huggingface-hub<1.0,>=0.34.0 in c:\\users\\ty\\mlops\\mlops_env\\lib\\site-packages (from transformers) (0.35.3)\n",
            "Requirement already satisfied: numpy>=1.17 in c:\\users\\ty\\mlops\\mlops_env\\lib\\site-packages (from transformers) (2.3.3)\n",
            "Requirement already satisfied: packaging>=20.0 in c:\\users\\ty\\mlops\\mlops_env\\lib\\site-packages (from transformers) (25.0)\n",
            "Requirement already satisfied: pyyaml>=5.1 in c:\\users\\ty\\mlops\\mlops_env\\lib\\site-packages (from transformers) (6.0.3)\n",
            "Requirement already satisfied: regex!=2019.12.17 in c:\\users\\ty\\mlops\\mlops_env\\lib\\site-packages (from transformers) (2025.9.18)\n",
            "Requirement already satisfied: requests in c:\\users\\ty\\mlops\\mlops_env\\lib\\site-packages (from transformers) (2.32.5)\n",
            "Requirement already satisfied: tokenizers<=0.23.0,>=0.22.0 in c:\\users\\ty\\mlops\\mlops_env\\lib\\site-packages (from transformers) (0.22.1)\n",
            "Requirement already satisfied: safetensors>=0.4.3 in c:\\users\\ty\\mlops\\mlops_env\\lib\\site-packages (from transformers) (0.6.2)\n",
            "Requirement already satisfied: tqdm>=4.27 in c:\\users\\ty\\mlops\\mlops_env\\lib\\site-packages (from transformers) (4.67.1)\n",
            "Requirement already satisfied: click>=7.0 in c:\\users\\ty\\mlops\\mlops_env\\lib\\site-packages (from uvicorn) (8.3.0)\n",
            "Requirement already satisfied: h11>=0.8 in c:\\users\\ty\\mlops\\mlops_env\\lib\\site-packages (from uvicorn) (0.16.0)\n",
            "Requirement already satisfied: colorama in c:\\users\\ty\\mlops\\mlops_env\\lib\\site-packages (from click>=7.0->uvicorn) (0.4.6)\n",
            "Requirement already satisfied: annotated-types>=0.6.0 in c:\\users\\ty\\mlops\\mlops_env\\lib\\site-packages (from pydantic!=1.8,!=1.8.1,!=2.0.0,!=2.0.1,!=2.1.0,<3.0.0,>=1.7.4->fastapi) (0.7.0)\n",
            "Requirement already satisfied: pydantic-core==2.33.2 in c:\\users\\ty\\mlops\\mlops_env\\lib\\site-packages (from pydantic!=1.8,!=1.8.1,!=2.0.0,!=2.0.1,!=2.1.0,<3.0.0,>=1.7.4->fastapi) (2.33.2)\n",
            "Requirement already satisfied: typing-inspection>=0.4.0 in c:\\users\\ty\\mlops\\mlops_env\\lib\\site-packages (from pydantic!=1.8,!=1.8.1,!=2.0.0,!=2.0.1,!=2.1.0,<3.0.0,>=1.7.4->fastapi) (0.4.2)\n",
            "Requirement already satisfied: anyio<5,>=3.6.2 in c:\\users\\ty\\mlops\\mlops_env\\lib\\site-packages (from starlette<0.49.0,>=0.40.0->fastapi) (4.11.0)\n",
            "Requirement already satisfied: mpmath<1.4,>=1.1.0 in c:\\users\\ty\\mlops\\mlops_env\\lib\\site-packages (from sympy>=1.13.3->torch) (1.3.0)\n",
            "Requirement already satisfied: MarkupSafe>=2.0 in c:\\users\\ty\\mlops\\mlops_env\\lib\\site-packages (from jinja2->torch) (3.0.3)\n",
            "Requirement already satisfied: charset_normalizer<4,>=2 in c:\\users\\ty\\mlops\\mlops_env\\lib\\site-packages (from requests->transformers) (3.4.3)\n",
            "Requirement already satisfied: idna<4,>=2.5 in c:\\users\\ty\\mlops\\mlops_env\\lib\\site-packages (from requests->transformers) (3.10)\n",
            "Requirement already satisfied: urllib3<3,>=1.21.1 in c:\\users\\ty\\mlops\\mlops_env\\lib\\site-packages (from requests->transformers) (2.5.0)\n",
            "Requirement already satisfied: certifi>=2017.4.17 in c:\\users\\ty\\mlops\\mlops_env\\lib\\site-packages (from requests->transformers) (2025.10.5)\n",
            "Requirement already satisfied: sniffio>=1.1 in c:\\users\\ty\\mlops\\mlops_env\\lib\\site-packages (from anyio<5,>=3.6.2->starlette<0.49.0,>=0.40.0->fastapi) (1.3.1)\n"
          ]
        },
        {
          "name": "stderr",
          "output_type": "stream",
          "text": [
            "\n",
            "[notice] A new release of pip is available: 23.2.1 -> 25.2\n",
            "[notice] To update, run: python.exe -m pip install --upgrade pip\n"
          ]
        }
      ],
      "source": [
        "!pip install fastapi Pillow python-multipart torch transformers uvicorn nest-asyncio pyngrok"
      ]
    },
    {
      "cell_type": "markdown",
      "metadata": {
        "id": "_JxHRFRAD6nt"
      },
      "source": []
    },
    {
      "cell_type": "code",
      "execution_count": 2,
      "metadata": {
        "colab": {
          "base_uri": "https://localhost:8080/"
        },
        "collapsed": true,
        "id": "eXIsU_xzx5zZ",
        "outputId": "a0f545ef-49fa-452e-8b94-ab24e2d15d63"
      },
      "outputs": [
        {
          "name": "stderr",
          "output_type": "stream",
          "text": [
            "c:\\Users\\Ty\\mlops\\mlops_env\\Lib\\site-packages\\tqdm\\auto.py:21: TqdmWarning: IProgress not found. Please update jupyter and ipywidgets. See https://ipywidgets.readthedocs.io/en/stable/user_install.html\n",
            "  from .autonotebook import tqdm as notebook_tqdm\n"
          ]
        }
      ],
      "source": [
        "from transformers import ViltProcessor, ViltForQuestionAnswering\n",
        "import requests\n",
        "from PIL import Image\n",
        "\n",
        "processor = ViltProcessor.from_pretrained(\"dandelin/vilt-b32-finetuned-vqa\")\n",
        "model = ViltForQuestionAnswering.from_pretrained(\"dandelin/vilt-b32-finetuned-vqa\")\n",
        "\n"
      ]
    },
    {
      "cell_type": "code",
      "execution_count": 3,
      "metadata": {
        "id": "wuAgb5645nns"
      },
      "outputs": [],
      "source": [
        "# prepare image + question\n",
        "url = \"http://images.cocodataset.org/val2017/000000039769.jpg\"\n",
        "image = Image.open(requests.get(url, stream=True).raw)\n",
        "\n",
        "text = \"What are the colors of the cats?\"\n",
        "\n",
        "# prepare inputs\n",
        "encoding = processor(image, text, return_tensors=\"pt\")\n"
      ]
    },
    {
      "cell_type": "code",
      "execution_count": 4,
      "metadata": {
        "colab": {
          "base_uri": "https://localhost:8080/"
        },
        "id": "f9gmjLZ05sq0",
        "outputId": "68211edb-0abb-433f-f67c-3aadf9c9985a"
      },
      "outputs": [
        {
          "name": "stdout",
          "output_type": "stream",
          "text": [
            "Predicted answer: brown and black\n"
          ]
        }
      ],
      "source": [
        "\n",
        "# forward pass\n",
        "outputs = model(**encoding)\n",
        "logits = outputs.logits\n",
        "idx = logits.argmax(-1).item()\n",
        "\n",
        "\n",
        "print(\"Predicted answer:\", model.config.id2label[idx])\n",
        "\n",
        "# TODO: put above code into a function that accepts image and text as input"
      ]
    },
    {
      "cell_type": "code",
      "execution_count": 5,
      "metadata": {
        "id": "TwPHEzIy0oez"
      },
      "outputs": [],
      "source": [
        "def model_pipeline(text: str, image: Image):\n",
        "    # prepare inputs\n",
        "    encoding = processor(image, text, return_tensors=\"pt\")\n",
        "\n",
        "    # forward pass\n",
        "    outputs = model(**encoding)\n",
        "    logits = outputs.logits\n",
        "    idx = logits.argmax(-1).item()\n",
        "\n",
        "    return  model.config.id2label[idx]"
      ]
    },
    {
      "cell_type": "code",
      "execution_count": 6,
      "metadata": {
        "id": "-3gPKMN_yqMy"
      },
      "outputs": [],
      "source": [
        "from typing import Union\n",
        "from fastapi import FastAPI, UploadFile\n",
        "import io\n",
        "from PIL import Image\n",
        "\n",
        "app = FastAPI()\n",
        "\n",
        "\n",
        "@app.get(\"/\")\n",
        "def read_root():\n",
        "    return {\"Hello\": \"World\"}\n",
        "\n",
        "\n",
        "@app.post(\"/ask\")\n",
        "def ask(text: str, image: UploadFile):\n",
        "    content = image.file.read()\n",
        "\n",
        "    image = Image.open(io.BytesIO(content))\n",
        "    image = Image.open(image.file)\n",
        "\n",
        "    result = model_pipeline(text, image)\n",
        "    return {\"answer\": result}\n",
        "\n",
        "\n",
        "\n",
        "\n"
      ]
    },
    {
      "cell_type": "code",
      "execution_count": 8,
      "metadata": {
        "id": "zLqgmFXF3hEl"
      },
      "outputs": [],
      "source": [
        "import nest_asyncio\n",
        "nest_asyncio.apply()\n",
        "from pyngrok import ngrok\n",
        "import uvicorn"
      ]
    },
    {
      "cell_type": "code",
      "execution_count": null,
      "metadata": {
        "colab": {
          "base_uri": "https://localhost:8080/",
          "height": 351
        },
        "id": "qoN6E-hI01hw",
        "outputId": "48891846-ea91-4a6a-c8e6-7c4b6d1bfab8"
      },
      "outputs": [
        {
          "name": "stdout",
          "output_type": "stream",
          "text": [
            "Public URL: https://semielliptical-dorothea-uniconoclastically.ngrok-free.dev\n"
          ]
        },
        {
          "name": "stderr",
          "output_type": "stream",
          "text": [
            "INFO:     Started server process [151356]\n",
            "INFO:     Waiting for application startup.\n",
            "INFO:     Application startup complete.\n",
            "INFO:     Uvicorn running on http://127.0.0.1:8000 (Press CTRL+C to quit)\n"
          ]
        },
        {
          "name": "stdout",
          "output_type": "stream",
          "text": [
            "INFO:     2600:4040:732c:b00:3039:81e1:ff12:dc06:0 - \"GET / HTTP/1.1\" 200 OK\n",
            "INFO:     127.0.0.1:64267 - \"GET / HTTP/1.1\" 200 OK\n",
            "INFO:     127.0.0.1:64267 - \"GET /favicon.ico HTTP/1.1\" 404 Not Found\n"
          ]
        },
        {
          "name": "stderr",
          "output_type": "stream",
          "text": [
            "INFO:     Shutting down\n",
            "INFO:     Waiting for application shutdown.\n",
            "INFO:     Application shutdown complete.\n",
            "INFO:     Finished server process [151356]\n"
          ]
        }
      ],
      "source": [
        "\n",
        "\n",
        "\n",
        "ngrok.set_auth_token(\"token\")\n",
        "\n",
        "ngrok_tunnel = ngrok.connect(8000)\n",
        "print('Public URL:', ngrok_tunnel.public_url)\n",
        "config = uvicorn.Config(app, port=8000, log_level=\"info\")\n",
        "server = uvicorn.Server(config)\n",
        "\n",
        "import asyncio\n",
        "# Use asyncio to serve, compatible with nest_asyncio\n",
        "await server.serve()\n",
        "\n"
      ]
    }
  ],
  "metadata": {
    "colab": {
      "provenance": []
    },
    "kernelspec": {
      "display_name": "mlops_env",
      "language": "python",
      "name": "python3"
    },
    "language_info": {
      "codemirror_mode": {
        "name": "ipython",
        "version": 3
      },
      "file_extension": ".py",
      "mimetype": "text/x-python",
      "name": "python",
      "nbconvert_exporter": "python",
      "pygments_lexer": "ipython3",
      "version": "3.11.7"
    }
  },
  "nbformat": 4,
  "nbformat_minor": 0
}
